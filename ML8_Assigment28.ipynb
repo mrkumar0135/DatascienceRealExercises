{
 "cells": [
  {
   "cell_type": "code",
   "execution_count": 52,
   "metadata": {
    "collapsed": true
   },
   "outputs": [],
   "source": [
    "#importing the important libraries\n",
    "import numpy as np\n",
    "import pandas as pd\n",
    "import matplotlib.pyplot as plt\n",
    "from bs4 import BeautifulSoup as bs\n",
    "import urllib.request as request\n",
    "import nltk\n"
   ]
  },
  {
   "cell_type": "markdown",
   "metadata": {},
   "source": [
    "### step 1. Loading the raw HTML webpage code in the notebook"
   ]
  },
  {
   "cell_type": "code",
   "execution_count": 22,
   "metadata": {
    "collapsed": true
   },
   "outputs": [],
   "source": [
    "response = request.urlopen('http://php.net/')\n",
    "html = response.read()\n",
    "page_soup = bs(html,\"html5lib\")\n",
    "#page_soup"
   ]
  },
  {
   "cell_type": "markdown",
   "metadata": {},
   "source": [
    "### step 2. Searching and navigating through the parse tree"
   ]
  },
  {
   "cell_type": "code",
   "execution_count": 33,
   "metadata": {
    "collapsed": true
   },
   "outputs": [],
   "source": [
    "# parsing the header content of each section in the webpage.\n",
    "\n",
    "text_web =[] # a list which will contain all the text of the website\n",
    "\n",
    "containers=page_soup.findAll('header',{'class':'title'})\n",
    "\n",
    "for container in containers:\n",
    "    inner_containers=container.findAll('a')\n",
    "    for inner_container in inner_containers:\n",
    "        text_web.append(inner_container.text)"
   ]
  },
  {
   "cell_type": "code",
   "execution_count": 34,
   "metadata": {
    "collapsed": true
   },
   "outputs": [],
   "source": [
    "# parsing the content of each section in the webpage.\n",
    "\n",
    "containers=page_soup.findAll('div',{'class':'newscontent'})\n",
    "\n",
    "for container in containers:\n",
    "    inner_containers=container.findAll('p')\n",
    "    for inner_container in inner_containers:\n",
    "        text_web.append(inner_container.text)\n",
    "   "
   ]
  },
  {
   "cell_type": "code",
   "execution_count": 38,
   "metadata": {},
   "outputs": [
    {
     "data": {
      "text/plain": [
       "['\\n        Please carefully test this version and report any issues found in the bug reporting system.\\n      ',\n",
       " '\\n        THIS IS A DEVELOPMENT PREVIEW - DO NOT USE IT IN PRODUCTION!\\n      ',\n",
       " '\\n        For more information on the new features and other changes, you can read the\\n        NEWS file,\\n        or the UPGRADING\\n        file for a complete list of upgrading notes. Internal changes are listed in the\\n        UPGRADING.INTERNALS file.\\n        These files can also be found in the release archive.\\n      ',\n",
       " '\\n        The next release would be RC5, planned for November 8th.\\n      ',\n",
       " '\\n        The signatures for the release can be found in the manifest\\n        or on the QA site.\\n      ']"
      ]
     },
     "execution_count": 38,
     "metadata": {},
     "output_type": "execute_result"
    }
   ],
   "source": [
    "text_web[40:45]"
   ]
  },
  {
   "cell_type": "markdown",
   "metadata": {},
   "source": [
    "### step 3. cleaning the text extracted from web scraping"
   ]
  },
  {
   "cell_type": "code",
   "execution_count": 42,
   "metadata": {},
   "outputs": [
    {
     "data": {
      "text/plain": [
       "' PHP 7.1.24 Released PHP 7.2.12 Released PHP 7.3.0RC5 Released PHP 7.3.0RC4 Released PHP 7.1.23 Released PHP 7.2.11 Released PHP 7.3.0RC3 Released PHP 7.3.0RC2 Released PHP 5.6.38 Released PHP 7.1.22 Released PHP 7.3.0RC1 Released PHP 7.3.0.beta3 Released PHP 7.3.0.beta2 Released PHP 7.3.0.beta1 Released PHP 7.3.0alpha4 Released PHP 7.3.0 alpha 3 Released PHP 7.3.0 alpha 2 Released PHP 7.3.0 alpha 1 Released PHP 7.2.2 Released PHP 7.2.0 Release Candidate 4 Released PHP 7.2.0 Release Candidate 3 Released PHP 7.2.0 Release Candidate 1 Released PHP 7.2.0 Beta 3 Released PHP 7.2.0 Alpha 3 Released The PHP development team announces the immediate availability of PHP 7.1.24.\\n     This is a bugfix release. All PHP 7.1 users are encouraged to upgrade to this version. For source downloads of PHP 7.1.24 please visit our downloads page,\\n     Windows source and binaries can be found on windows.php.net/download/.\\n     The list of changes is recorded in the ChangeLog.\\n      The PHP development team '"
      ]
     },
     "execution_count": 42,
     "metadata": {},
     "output_type": "execute_result"
    }
   ],
   "source": [
    "web_text=''\n",
    "for text in text_web:\n",
    "    web_text=web_text+' '+text\n",
    "\n",
    "web_text[0:1000]"
   ]
  },
  {
   "cell_type": "code",
   "execution_count": 45,
   "metadata": {},
   "outputs": [
    {
     "data": {
      "text/plain": [
       "' PHP 7.1.24 Released PHP 7.2.12 Released PHP 7.3.0RC5 Released PHP 7.3.0RC4 Released PHP 7.1.23 Released PHP 7.2.11 Released PHP 7.3.0RC3 Released PHP 7.3.0RC2 Released PHP 5.6.38 Released PHP 7.1.22 Released PHP 7.3.0RC1 Released PHP 7.3.0.beta3 Released PHP 7.3.0.beta2 Released PHP 7.3.0.beta1 Released PHP 7.3.0alpha4 Released PHP 7.3.0 alpha 3 Released PHP 7.3.0 alpha 2 Released PHP 7.3.0 alpha 1 Released PHP 7.2.2 Released PHP 7.2.0 Release Candidate 4 Released PHP 7.2.0 Release Candidate 3 Released PHP 7.2.0 Release Candidate 1 Released PHP 7.2.0 Beta 3 Released PHP 7.2.0 Alpha 3 Released The PHP development team announces the immediate availability of PHP 7.1.24.     This is a bugfix release. All PHP 7.1 users are encouraged to upgrade to this version. For source downloads of PHP 7.1.24 please visit our downloads page,     Windows source and binaries can be found on windows.php.net/download/.     The list of changes is recorded in the ChangeLog.      The PHP development team anno'"
      ]
     },
     "execution_count": 45,
     "metadata": {},
     "output_type": "execute_result"
    }
   ],
   "source": [
    "# since there are too many new line character in the web_text so we will remove it \n",
    "web_text=web_text.replace('\\n','')\n",
    "web_text[0:1000]"
   ]
  },
  {
   "cell_type": "code",
   "execution_count": 48,
   "metadata": {},
   "outputs": [
    {
     "data": {
      "text/plain": [
       "'PHP 7.1.24 Released PHP 7.2.12 Released PHP 7.3.0RC5 Released PHP 7.3.0RC4 Released PHP 7.1.23 Released PHP 7.2.11 Released PHP 7.3.0RC3 Released PHP 7.3.0RC2 Released PHP 5.6.38 Released PHP 7.1.22 Released PHP 7.3.0RC1 Released PHP 7.3.0.beta3 Released PHP 7.3.0.beta2 Released PHP 7.3.0.beta1 Released PHP 7.3.0alpha4 Released PHP 7.3.0 alpha 3 Released PHP 7.3.0 alpha 2 Released PHP 7.3.0 alpha 1 Released PHP 7.2.2 Released PHP 7.2.0 Release Candidate 4 Released PHP 7.2.0 Release Candidate 3 Released PHP 7.2.0 Release Candidate 1 Released PHP 7.2.0 Beta 3 Released PHP 7.2.0 Alpha 3 Released The PHP development team announces the immediate availability of PHP 7.1.24. This is a bugfix release. All PHP 7.1 users are encouraged to upgrade to this version. For source downloads of PHP 7.1.24 please visit our downloads page, Windows source and binaries can be found on windows.php.net/download/. The list of changes is recorded in the ChangeLog. The PHP development team announces the immediat'"
      ]
     },
     "execution_count": 48,
     "metadata": {},
     "output_type": "execute_result"
    }
   ],
   "source": [
    "# substitute all tabs, newlines and other \"whitespace-like\" characters with single whitespace character\n",
    "import re\n",
    "\n",
    "web_text=re.sub( '\\s+', ' ', web_text ).strip()\n",
    "web_text[0:1000]"
   ]
  },
  {
   "cell_type": "code",
   "execution_count": 49,
   "metadata": {},
   "outputs": [
    {
     "data": {
      "text/plain": [
       "'php 7.1.24 released php 7.2.12 released php 7.3.0rc5 released php 7.3.0rc4 released php 7.1.23 released php 7.2.11 released php 7.3.0rc3 released php 7.3.0rc2 released php 5.6.38 released php 7.1.22 released php 7.3.0rc1 released php 7.3.0.beta3 released php 7.3.0.beta2 released php 7.3.0.beta1 released php 7.3.0alpha4 released php 7.3.0 alpha 3 released php 7.3.0 alpha 2 released php 7.3.0 alpha 1 released php 7.2.2 released php 7.2.0 release candidate 4 released php 7.2.0 release candidate 3 released php 7.2.0 release candidate 1 released php 7.2.0 beta 3 released php 7.2.0 alpha 3 released the php development team announces the immediate availability of php 7.1.24. this is a bugfix release. all php 7.1 users are encouraged to upgrade to this version. for source downloads of php 7.1.24 please visit our downloads page, windows source and binaries can be found on windows.php.net/download/. the list of changes is recorded in the changelog. the php development team announces the immediat'"
      ]
     },
     "execution_count": 49,
     "metadata": {},
     "output_type": "execute_result"
    }
   ],
   "source": [
    "# converting all upper case to lower cased.\n",
    "web_text=web_text.lower()\n",
    "web_text[0:1000]"
   ]
  },
  {
   "cell_type": "code",
   "execution_count": 51,
   "metadata": {},
   "outputs": [
    {
     "data": {
      "text/plain": [
       "'php 7.1.24 released php 7.2.12 released php 7.3.0rc5 released php 7.3.0rc4 released php 7.1.23 released php 7.2.11 released php 7.3.0rc3 released php 7.3.0rc2 released php 5.6.38 released php 7.1.22 released php 7.3.0rc1 released php 7.3.0.beta3 released php 7.3.0.beta2 released php 7.3.0.beta1 released php 7.3.0alpha4 released php 7.3.0 alpha 3 released php 7.3.0 alpha 2 released php 7.3.0 alpha 1 released php 7.2.2 released php 7.2.0 release candidate 4 released php 7.2.0 release candidate 3 released php 7.2.0 release candidate 1 released php 7.2.0 beta 3 released php 7.2.0 alpha 3 released the php development team announces the immediate availability of php 7.1.24. this is a bugfix release. all php 7.1 users are encouraged to upgrade to this version. for source downloads of php 7.1.24 please visit our downloads page, windows source and binaries can be found on windows.php.net/download/. the list of changes is recorded in the changelog. the php development team announces the immediat'"
      ]
     },
     "execution_count": 51,
     "metadata": {},
     "output_type": "execute_result"
    }
   ],
   "source": [
    "# so finally our clean extracted text from website is \n",
    "\n",
    "web_text[0:1000]"
   ]
  },
  {
   "cell_type": "markdown",
   "metadata": {},
   "source": [
    "### step 4. using nltk library to tokenize and find the frequecy dist. for each words and visualization"
   ]
  },
  {
   "cell_type": "code",
   "execution_count": 55,
   "metadata": {},
   "outputs": [
    {
     "name": "stdout",
     "output_type": "stream",
     "text": [
      "[nltk_data] Downloading package reuters to\n",
      "[nltk_data]     C:\\Users\\DELL\\AppData\\Roaming\\nltk_data...\n"
     ]
    },
    {
     "data": {
      "text/plain": [
       "True"
      ]
     },
     "execution_count": 55,
     "metadata": {},
     "output_type": "execute_result"
    }
   ],
   "source": [
    "import nltk\n",
    "nltk.download('reuters')"
   ]
  },
  {
   "cell_type": "code",
   "execution_count": 71,
   "metadata": {},
   "outputs": [
    {
     "data": {
      "text/plain": [
       "['php',\n",
       " '7.1.24',\n",
       " 'released',\n",
       " 'php',\n",
       " '7.2.12',\n",
       " 'released',\n",
       " 'php',\n",
       " '7.3.0rc5',\n",
       " 'released',\n",
       " 'php',\n",
       " '7.3.0rc4',\n",
       " 'released',\n",
       " 'php',\n",
       " '7.1.23',\n",
       " 'released',\n",
       " 'php',\n",
       " '7.2.11',\n",
       " 'released',\n",
       " 'php',\n",
       " '7.3.0rc3']"
      ]
     },
     "execution_count": 71,
     "metadata": {},
     "output_type": "execute_result"
    }
   ],
   "source": [
    "from nltk.tokenize import word_tokenize,sent_tokenize\n",
    "\n",
    "word_tokens=[] # to store the word tokens\n",
    "\n",
    "# converting to sentence tokenize and then word tokenize\n",
    "for sentence in sent_tokenize(web_text):\n",
    "    for word in word_tokenize(sentence):\n",
    "        word_tokens.append(word)\n",
    "        \n",
    "word_tokens[:20] # printing the first 50 word tokens from the string"
   ]
  },
  {
   "cell_type": "code",
   "execution_count": 75,
   "metadata": {},
   "outputs": [
    {
     "data": {
      "text/plain": [
       "FreqDist({'the': 292, '.': 189, 'php': 161, 'for': 103, 'of': 95, 'in': 91, 'release': 89, ',': 78, 'can': 74, 'be': 69, ...})"
      ]
     },
     "execution_count": 75,
     "metadata": {},
     "output_type": "execute_result"
    }
   ],
   "source": [
    "# calculating the frequency distribution of each words\n",
    "counts=nltk.FreqDist(word_tokens)\n",
    "counts"
   ]
  },
  {
   "cell_type": "code",
   "execution_count": 82,
   "metadata": {},
   "outputs": [
    {
     "data": {
      "text/plain": [
       "[('the', 292),\n",
       " ('.', 189),\n",
       " ('php', 161),\n",
       " ('for', 103),\n",
       " ('of', 95),\n",
       " ('in', 91),\n",
       " ('release', 89),\n",
       " (',', 78),\n",
       " ('can', 74),\n",
       " ('be', 69)]"
      ]
     },
     "execution_count": 82,
     "metadata": {},
     "output_type": "execute_result"
    }
   ],
   "source": [
    "# printing the top 10 words with the maximum frequency\n",
    "counts.most_common(10)"
   ]
  },
  {
   "cell_type": "code",
   "execution_count": 84,
   "metadata": {
    "scrolled": true
   },
   "outputs": [
    {
     "data": {
      "image/png": "[encoded data removed]",
      "text/plain": [
       "<Figure size 432x288 with 1 Axes>"
      ]
     },
     "metadata": {},
     "output_type": "display_data"
    }
   ],
   "source": [
    "# plotting frequency of 20 most common words\n",
    "counts.plot(20)"
   ]
  },
  {
   "cell_type": "markdown",
   "metadata": {},
   "source": [
    "## observation:-\n",
    "### we can clearly visualize from the graph that word 'the' has the highest frequency followed by '.' and 'php'.\n"
   ]
  }
 ],
 "metadata": {
  "kernelspec": {
   "display_name": "Python 3",
   "language": "python",
   "name": "python3"
  },
  "language_info": {
   "codemirror_mode": {
    "name": "ipython",
    "version": 3
   },
   "file_extension": ".py",
   "mimetype": "text/x-python",
   "name": "python",
   "nbconvert_exporter": "python",
   "pygments_lexer": "ipython3",
   "version": "3.6.3"
  }
 },
 "nbformat": 4,
 "nbformat_minor": 2
}
