{
 "cells": [
  {
   "cell_type": "code",
   "execution_count": 2,
   "metadata": {},
   "outputs": [
    {
     "name": "stdout",
     "output_type": "stream",
     "text": [
      "Enter the Inputs:34 21 89 56 75\n",
      "['34', '21', '89', '56', '75']\n"
     ]
    }
   ],
   "source": [
    "a = input(\"Enter the Inputs:\")\n",
    "v = a.split()\n",
    "print(v)"
   ]
  },
  {
   "cell_type": "code",
   "execution_count": 17,
   "metadata": {
    "scrolled": true
   },
   "outputs": [
    {
     "name": "stdout",
     "output_type": "stream",
     "text": [
      "\n",
      "*\n",
      "**\n",
      "***\n",
      "****\n",
      "*****\n",
      "****\n",
      "***\n",
      "**\n",
      "*\n"
     ]
    }
   ],
   "source": [
    "for i in range(5):\n",
    "    print('*' *i)\n",
    "for i in range(5,0,-1):\n",
    "     print('*' *i)"
   ]
  },
  {
   "cell_type": "code",
   "execution_count": 35,
   "metadata": {},
   "outputs": [
    {
     "name": "stdout",
     "output_type": "stream",
     "text": [
      "Input word:AcadGild\n",
      "Output: dliGdacA\n"
     ]
    }
   ],
   "source": [
    "a = input(\"Input word:\")\n",
    "print(\"Output:\",a[::-1])\n"
   ]
  },
  {
   "cell_type": "code",
   "execution_count": 52,
   "metadata": {},
   "outputs": [
    {
     "name": "stdout",
     "output_type": "stream",
     "text": [
      "WE,THE PEOPLE OF INDIA, \n",
      "\t having solemnly resolved to constitute India into a SOVEREIGN,! \n",
      "\t\t SOCIALIST, SECULAR, DEMOCRATIC REPUBLIC \n",
      "\t\t and to secure to all its citizens\n"
     ]
    }
   ],
   "source": [
    "print(\"WE,THE PEOPLE OF INDIA, {0}{1} having solemnly resolved to constitute India into a SOVEREIGN,! {0}{1}{1} SOCIALIST, SECULAR, DEMOCRATIC REPUBLIC {0}{1}{1} and to secure to all its citizens\".format(\"\\n\",\"\\t\"))"
   ]
  }
 ],
 "metadata": {
  "kernelspec": {
   "display_name": "Python 3",
   "language": "python",
   "name": "python3"
  },
  "language_info": {
   "codemirror_mode": {
    "name": "ipython",
    "version": 3
   },
   "file_extension": ".py",
   "mimetype": "text/x-python",
   "name": "python",
   "nbconvert_exporter": "python",
   "pygments_lexer": "ipython3",
   "version": "3.6.3"
  }
 },
 "nbformat": 4,
 "nbformat_minor": 2
}
