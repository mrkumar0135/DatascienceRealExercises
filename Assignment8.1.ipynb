{
 "cells": [
  {
   "cell_type": "code",
   "execution_count": 1,
   "metadata": {},
   "outputs": [
    {
     "name": "stdout",
     "output_type": "stream",
     "text": [
      "Input DF:\n",
      " ----------\n",
      "   X\n",
      "0  7\n",
      "1  2\n",
      "2  0\n",
      "3  3\n",
      "4  4\n",
      "5  2\n",
      "6  5\n",
      "7  0\n",
      "8  3\n",
      "9  4\n",
      "New DF:\n",
      " --------------------\n",
      "   X  Y\n",
      "0  7  1\n",
      "1  2  2\n",
      "2  0  0\n",
      "3  3  1\n",
      "4  4  2\n",
      "5  2  3\n",
      "6  5  4\n",
      "7  0  0\n",
      "8  3  1\n",
      "9  4  2\n",
      "Using Python Code\n",
      " ------------------------------\n",
      "7 1\n",
      "2 2\n",
      "0 0\n",
      "3 1\n",
      "4 2\n",
      "2 3\n",
      "5 4\n",
      "0 0\n",
      "3 1\n",
      "4 2\n"
     ]
    }
   ],
   "source": [
    "import pandas as pd\n",
    "df = pd.DataFrame({'X': [7, 2, 0, 3, 4, 2, 5, 0, 3, 4]})\n",
    "print('Input DF:\\n','-'*10)\n",
    "print(df)\n",
    "df1=(df['X']!=0).cumsum()\n",
    "df2=df1!=df1.shift()\n",
    "df['Y']=df2.groupby((df2 != df2.shift()).cumsum()).cumsum().astype(int)\n",
    "print('New DF:\\n','-'*20)\n",
    "print(df)\n",
    "\n",
    "print('Using Python Code\\n','-'*30)\n",
    "## Using python code\t\n",
    "l=[7, 2, 0, 3, 4, 2, 5, 0, 3, 4]\n",
    "j=0\n",
    "for i in l:\n",
    "    if int(i)>0:\n",
    "        j+=1\n",
    "        print(int(i),j)\n",
    "    elif int(i)==0:\n",
    "        j=0\n",
    "        print(int(i),j)"
   ]
  }
 ],
 "metadata": {
  "kernelspec": {
   "display_name": "Python 3",
   "language": "python",
   "name": "python3"
  },
  "language_info": {
   "codemirror_mode": {
    "name": "ipython",
    "version": 3
   },
   "file_extension": ".py",
   "mimetype": "text/x-python",
   "name": "python",
   "nbconvert_exporter": "python",
   "pygments_lexer": "ipython3",
   "version": "3.6.3"
  }
 },
 "nbformat": 4,
 "nbformat_minor": 2
}
