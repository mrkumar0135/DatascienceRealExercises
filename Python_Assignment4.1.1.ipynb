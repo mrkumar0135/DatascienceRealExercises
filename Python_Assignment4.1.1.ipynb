{
 "cells": [
  {
   "cell_type": "code",
   "execution_count": 9,
   "metadata": {},
   "outputs": [
    {
     "name": "stdout",
     "output_type": "stream",
     "text": [
      "Area of the triangle of sides (a=3, b=5, c=7) : 6.49519052838329\n"
     ]
    }
   ],
   "source": [
    "class Triangle():\n",
    "    \n",
    "    def __init__(self, a,b,c):\n",
    "        self.a = a\n",
    "        self.b = b\n",
    "        self.c = c\n",
    "        \n",
    "class AreaOfTriangle(Triangle): \n",
    "    \n",
    "    def __init__(self, a,b,c):\n",
    "        Triangle.__init__(self, a,b,c)\n",
    "        \n",
    "    def get_area(self): \n",
    "        s = (self.a + self.b + self.c) * 0.5\n",
    "        return (s*(s-self.a)*(s-self.b)*(s-self.c)) ** 0.5\n",
    "    \n",
    "triangle = AreaOfTriangle(3,5,7)\n",
    "print(\"Area of the triangle of sides (a=3, b=5, c=7) :\" ,triangle.get_area())"
   ]
  }
 ],
 "metadata": {
  "kernelspec": {
   "display_name": "Python 3",
   "language": "python",
   "name": "python3"
  },
  "language_info": {
   "codemirror_mode": {
    "name": "ipython",
    "version": 3
   },
   "file_extension": ".py",
   "mimetype": "text/x-python",
   "name": "python",
   "nbconvert_exporter": "python",
   "pygments_lexer": "ipython3",
   "version": "3.6.3"
  }
 },
 "nbformat": 4,
 "nbformat_minor": 2
}
