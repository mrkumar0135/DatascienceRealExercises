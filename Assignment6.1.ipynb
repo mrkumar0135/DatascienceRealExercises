{
 "cells": [
  {
   "cell_type": "code",
   "execution_count": 1,
   "metadata": {
    "collapsed": true
   },
   "outputs": [],
   "source": [
    "def vander_input(x,N,order):\n",
    "    X=x.size\n",
    "    result_array = np.empty((N,X),dtype=int)\n",
    "    if order.upper()=='True':\n",
    "        for i in range(N):\n",
    "            power_vector=np.array(np.power(x,i))\n",
    "            result_array[i]=power_vector\n",
    "    else:\n",
    "        for i in range(N-1,-1,-1):\n",
    "            power_vector=np.array(np.power(x,i))\n",
    "            result_array[(N-1)-i]=power_vector\n",
    "    return result_array        "
   ]
  },
  {
   "cell_type": "code",
   "execution_count": 2,
   "metadata": {},
   "outputs": [
    {
     "name": "stdout",
     "output_type": "stream",
     "text": [
      "Generate a vandermode matrix\n",
      "Enter the value of N power:4\n",
      "Enter comma separated list of elements(1,2,3..):\n",
      "1,2,3,4,5\n",
      "Input vector is:\n",
      "[1 2 3 4 5]\n",
      "Enter 'True' for increasing order of powers else enter'False'True\n",
      "The resultant vandermode matrix:\n",
      "[[  1   1   1   1]\n",
      " [  8   4   2   1]\n",
      " [ 27   9   3   1]\n",
      " [ 64  16   4   1]\n",
      " [125  25   5   1]]\n"
     ]
    }
   ],
   "source": [
    "import numpy as np\n",
    "print('Generate a vandermode matrix')\n",
    "N=int(input('Enter the value of N power:'))\n",
    "print('Enter comma separated list of elements(1,2,3..):')\n",
    "input_vector=input()\n",
    "input_list=list(map(int,input_vector.split(',')))\n",
    "x=np.array(input_list)\n",
    "print('Input vector is:')\n",
    "print(x)\n",
    "order=input(\"Enter 'True' for increasing order of powers else enter'False'\")\n",
    "result_array=vander_input(x,N,order)\n",
    "print('The resultant vandermode matrix:')\n",
    "print(result_array.T)"
   ]
  }
 ],
 "metadata": {
  "kernelspec": {
   "display_name": "Python 3",
   "language": "python",
   "name": "python3"
  },
  "language_info": {
   "codemirror_mode": {
    "name": "ipython",
    "version": 3
   },
   "file_extension": ".py",
   "mimetype": "text/x-python",
   "name": "python",
   "nbconvert_exporter": "python",
   "pygments_lexer": "ipython3",
   "version": "3.6.3"
  }
 },
 "nbformat": 4,
 "nbformat_minor": 2
}
